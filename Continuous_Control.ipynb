{
 "cells": [
  {
   "cell_type": "markdown",
   "metadata": {},
   "source": [
    "# Continuous Control\n",
    "\n",
    "---\n",
    "\n",
    "In this notebook, we use the Unity ML-Agents environment for the second project of the [Deep Reinforcement Learning Nanodegree](https://www.udacity.com/course/deep-reinforcement-learning-nanodegree--nd893) program.\n",
    "\n",
    "### 1. Start the Environment\n",
    "\n",
    "We begin by importing the necessary packages.  If the code cell below returns an error, please revisit the project instructions to double-check that you have installed [Unity ML-Agents](https://github.com/Unity-Technologies/ml-agents/blob/master/docs/Installation.md) and [NumPy](http://www.numpy.org/)."
   ]
  },
  {
   "cell_type": "code",
   "execution_count": 1,
   "metadata": {},
   "outputs": [
    {
     "name": "stdout",
     "output_type": "stream",
     "text": [
      "\u001b[31mtensorflow 1.7.1 has requirement numpy>=1.13.3, but you'll have numpy 1.12.1 which is incompatible.\u001b[0m\r\n",
      "\u001b[31mipython 6.5.0 has requirement prompt-toolkit<2.0.0,>=1.0.15, but you'll have prompt-toolkit 3.0.5 which is incompatible.\u001b[0m\r\n"
     ]
    }
   ],
   "source": [
    "# when running in Udacity workspace\n",
    "!pip -q install ./python"
   ]
  },
  {
   "cell_type": "code",
   "execution_count": 2,
   "metadata": {},
   "outputs": [],
   "source": [
    "from ddpg_agent import Agent\n",
    "from collections import deque\n",
    "import matplotlib.pyplot as plt\n",
    "import numpy as np\n",
    "import random\n",
    "import torch\n",
    "from unityagents import UnityEnvironment\n",
    "\n",
    "%matplotlib inline"
   ]
  },
  {
   "cell_type": "markdown",
   "metadata": {},
   "source": [
    "Next, we will start the environment!  **_Before running the code cell below_**, change the `file_name` parameter to match the location of the Unity environment that you downloaded.\n",
    "\n",
    "- **Mac**: `\"path/to/Reacher.app\"`\n",
    "- **Windows** (x86): `\"path/to/Reacher_Windows_x86/Reacher.exe\"`\n",
    "- **Windows** (x86_64): `\"path/to/Reacher_Windows_x86_64/Reacher.exe\"`\n",
    "- **Linux** (x86): `\"path/to/Reacher_Linux/Reacher.x86\"`\n",
    "- **Linux** (x86_64): `\"path/to/Reacher_Linux/Reacher.x86_64\"`\n",
    "- **Linux** (x86, headless): `\"path/to/Reacher_Linux_NoVis/Reacher.x86\"`\n",
    "- **Linux** (x86_64, headless): `\"path/to/Reacher_Linux_NoVis/Reacher.x86_64\"`\n",
    "\n",
    "For instance, if you are using a Mac, then you downloaded `Reacher.app`.  If this file is in the same folder as the notebook, then the line below should appear as follows:\n",
    "```\n",
    "env = UnityEnvironment(file_name=\"Reacher.app\")\n",
    "```"
   ]
  },
  {
   "cell_type": "code",
   "execution_count": 3,
   "metadata": {},
   "outputs": [
    {
     "name": "stderr",
     "output_type": "stream",
     "text": [
      "INFO:unityagents:\n",
      "'Academy' started successfully!\n",
      "Unity Academy name: Academy\n",
      "        Number of Brains: 1\n",
      "        Number of External Brains : 1\n",
      "        Lesson number : 0\n",
      "        Reset Parameters :\n",
      "\t\tgoal_speed -> 1.0\n",
      "\t\tgoal_size -> 5.0\n",
      "Unity brain name: ReacherBrain\n",
      "        Number of Visual Observations (per agent): 0\n",
      "        Vector Observation space type: continuous\n",
      "        Vector Observation space size (per agent): 33\n",
      "        Number of stacked Vector Observation: 1\n",
      "        Vector Action space type: continuous\n",
      "        Vector Action space size (per agent): 4\n",
      "        Vector Action descriptions: , , , \n"
     ]
    }
   ],
   "source": [
    "# select this option to load version 1 (with a single agent) of the environment\n",
    "env = UnityEnvironment(file_name='/data/Reacher_One_Linux_NoVis/Reacher_One_Linux_NoVis.x86_64')\n",
    "\n",
    "# select this option to load version 2 (with 20 agents) of the environment\n",
    "# env = UnityEnvironment(file_name='/data/Reacher_Linux_NoVis/Reacher.x86_64')"
   ]
  },
  {
   "cell_type": "markdown",
   "metadata": {},
   "source": [
    "Environments contain **_brains_** which are responsible for deciding the actions of their associated agents. Here we check for the first brain available, and set it as the default brain we will be controlling from Python."
   ]
  },
  {
   "cell_type": "code",
   "execution_count": 4,
   "metadata": {},
   "outputs": [],
   "source": [
    "# get the default brain\n",
    "brain_name = env.brain_names[0]\n",
    "brain = env.brains[brain_name]"
   ]
  },
  {
   "cell_type": "markdown",
   "metadata": {},
   "source": [
    "### 2. The State and Action Spaces\n",
    "\n",
    "In this environment, a double-jointed arm can move to target locations. A reward of `+0.1` is provided for each step that the agent's hand is in the goal location. Thus, the goal of your agent is to maintain its position at the target location for as many time steps as possible.\n",
    "\n",
    "The observation space consists of `33` variables corresponding to position, rotation, velocity, and angular velocities of the arm.  Each action is a vector with four numbers, corresponding to torque applicable to two joints.  Every entry in the action vector must be a number between `-1` and `1`."
   ]
  },
  {
   "cell_type": "markdown",
   "metadata": {},
   "source": [
    "### 3. DDPG Model\n",
    "\n",
    "When training the environment, set `train_mode=True`, so that the line for resetting the environment looks like the following:\n",
    "```python\n",
    "env_info = env.reset(train_mode=True)[brain_name]\n",
    "```"
   ]
  },
  {
   "cell_type": "code",
   "execution_count": 6,
   "metadata": {},
   "outputs": [],
   "source": [
    "def ddpg(n_episodes=200, max_t=1000, solved_score=30.0, consec_episodes=100, print_every=1, train_mode=True,\n",
    "         actor_path='actor_ckpt.pth', critic_path='critic_ckpt.pth'):\n",
    "    \"\"\"Deep Deterministic Policy Gradient (DDPG)\n",
    "    \n",
    "    Params\n",
    "    ======\n",
    "        n_episodes (int)      : maximum number of training episodes\n",
    "        max_t (int)           : maximum number of timesteps per episode\n",
    "        train_mode (bool)     : if 'True' set environment to training mode\n",
    "        solved_score (float)  : min avg score over consecutive episodes\n",
    "        consec_episodes (int) : number of consecutive episodes used to calculate score\n",
    "        print_every (int)     : interval to display results\n",
    "        actor_path (str)      : directory to store actor network weights\n",
    "        critic_path (str)     : directory to store critic network weights\n",
    "\n",
    "    \"\"\"\n",
    "    instant_scores = [] \n",
    "    scores_window = deque(maxlen=consec_episodes)  # mean scores from most recent episodes\n",
    "    moving_avgs = []                               # list of moving averages\n",
    "    \n",
    "    for i_episode in range(1, n_episodes+1):\n",
    "        env_info = env.reset(train_mode=train_mode)[brain_name] # reset environment\n",
    "        states = env_info.vector_observations                   # get current state for each agent      \n",
    "        scores = np.zeros(num_agents)                           # initialize score for each agent\n",
    "        agent.reset()\n",
    "        for t in range(max_t):\n",
    "            actions = agent.act(states, add_noise=True)         # select an action\n",
    "            env_info = env.step(actions)[brain_name]            # send actions to environment\n",
    "            next_states = env_info.vector_observations          # get next state\n",
    "            rewards = env_info.rewards                          # get reward\n",
    "            dones = env_info.local_done                         # see if episode has finished\n",
    "            for state, action, reward, next_state, done in zip(states, actions, rewards, next_states, dones):\n",
    "                agent.step(state, action, reward, next_state, done, t)             \n",
    "            states = next_states\n",
    "            scores += rewards        \n",
    "            if np.any(dones):                                   # exit loop when episode ends\n",
    "                break\n",
    "\n",
    "        instant_scores.append(np.mean(scores))           # save mean score for the episode\n",
    "        scores_window.append(instant_scores[-1])         # save mean score to window\n",
    "        moving_avgs.append(np.mean(scores_window))    # save moving average\n",
    "                \n",
    "        if i_episode % print_every == 0:\n",
    "            print('\\rEpisode {} \\tInst. Reward: {:.1f}\\tAvg. Reward: {:.1f}'.format(\\\n",
    "                  i_episode, instant_scores[-1], moving_avgs[-1]))\n",
    "                  \n",
    "        if moving_avgs[-1] >= solved_score and i_episode >= consec_episodes:\n",
    "            print('\\nEnvironment SOLVED in {} episodes!\\tMoving Average ={:.1f} over last {} episodes'.format(\\\n",
    "                                    i_episode-consec_episodes, moving_avgs[-1], consec_episodes))            \n",
    "            if train_mode:\n",
    "                torch.save(agent.actor_local.state_dict(), actor_path)\n",
    "                torch.save(agent.critic_local.state_dict(), critic_path)  \n",
    "            break\n",
    "            \n",
    "    return instant_scores, moving_avgs"
   ]
  },
  {
   "cell_type": "code",
   "execution_count": 7,
   "metadata": {},
   "outputs": [
    {
     "name": "stdout",
     "output_type": "stream",
     "text": [
      "Episode 1 \tInst. Reward: 1.1\tAvg. Reward: 1.1\n",
      "Episode 2 \tInst. Reward: 0.9\tAvg. Reward: 1.0\n",
      "Episode 3 \tInst. Reward: 1.0\tAvg. Reward: 1.0\n",
      "Episode 4 \tInst. Reward: 1.1\tAvg. Reward: 1.0\n",
      "Episode 5 \tInst. Reward: 1.6\tAvg. Reward: 1.1\n",
      "Episode 6 \tInst. Reward: 0.2\tAvg. Reward: 1.0\n",
      "Episode 7 \tInst. Reward: 1.7\tAvg. Reward: 1.1\n",
      "Episode 8 \tInst. Reward: 0.3\tAvg. Reward: 1.0\n",
      "Episode 9 \tInst. Reward: 0.9\tAvg. Reward: 1.0\n",
      "Episode 10 \tInst. Reward: 0.1\tAvg. Reward: 0.9\n",
      "Episode 11 \tInst. Reward: 0.9\tAvg. Reward: 0.9\n",
      "Episode 12 \tInst. Reward: 0.2\tAvg. Reward: 0.9\n",
      "Episode 13 \tInst. Reward: 0.5\tAvg. Reward: 0.8\n",
      "Episode 14 \tInst. Reward: 0.2\tAvg. Reward: 0.8\n",
      "Episode 15 \tInst. Reward: 1.3\tAvg. Reward: 0.8\n",
      "Episode 16 \tInst. Reward: 1.2\tAvg. Reward: 0.8\n",
      "Episode 17 \tInst. Reward: 1.7\tAvg. Reward: 0.9\n",
      "Episode 18 \tInst. Reward: 1.4\tAvg. Reward: 0.9\n",
      "Episode 19 \tInst. Reward: 2.2\tAvg. Reward: 1.0\n",
      "Episode 20 \tInst. Reward: 0.9\tAvg. Reward: 1.0\n",
      "Episode 21 \tInst. Reward: 2.1\tAvg. Reward: 1.0\n",
      "Episode 22 \tInst. Reward: 1.5\tAvg. Reward: 1.1\n",
      "Episode 23 \tInst. Reward: 1.8\tAvg. Reward: 1.1\n",
      "Episode 24 \tInst. Reward: 1.0\tAvg. Reward: 1.1\n",
      "Episode 25 \tInst. Reward: 5.7\tAvg. Reward: 1.3\n",
      "Episode 26 \tInst. Reward: 3.1\tAvg. Reward: 1.3\n",
      "Episode 27 \tInst. Reward: 2.1\tAvg. Reward: 1.4\n",
      "Episode 28 \tInst. Reward: 3.1\tAvg. Reward: 1.4\n",
      "Episode 29 \tInst. Reward: 3.8\tAvg. Reward: 1.5\n",
      "Episode 30 \tInst. Reward: 1.1\tAvg. Reward: 1.5\n",
      "Episode 31 \tInst. Reward: 5.2\tAvg. Reward: 1.6\n",
      "Episode 32 \tInst. Reward: 4.1\tAvg. Reward: 1.7\n",
      "Episode 33 \tInst. Reward: 2.3\tAvg. Reward: 1.7\n",
      "Episode 34 \tInst. Reward: 3.1\tAvg. Reward: 1.8\n",
      "Episode 35 \tInst. Reward: 3.7\tAvg. Reward: 1.8\n",
      "Episode 36 \tInst. Reward: 3.2\tAvg. Reward: 1.8\n",
      "Episode 37 \tInst. Reward: 2.7\tAvg. Reward: 1.9\n",
      "Episode 38 \tInst. Reward: 3.1\tAvg. Reward: 1.9\n",
      "Episode 39 \tInst. Reward: 2.0\tAvg. Reward: 1.9\n",
      "Episode 40 \tInst. Reward: 3.8\tAvg. Reward: 2.0\n",
      "Episode 41 \tInst. Reward: 3.7\tAvg. Reward: 2.0\n",
      "Episode 42 \tInst. Reward: 3.2\tAvg. Reward: 2.0\n",
      "Episode 43 \tInst. Reward: 8.1\tAvg. Reward: 2.2\n",
      "Episode 44 \tInst. Reward: 5.0\tAvg. Reward: 2.2\n",
      "Episode 45 \tInst. Reward: 2.7\tAvg. Reward: 2.2\n",
      "Episode 46 \tInst. Reward: 1.8\tAvg. Reward: 2.2\n",
      "Episode 47 \tInst. Reward: 3.8\tAvg. Reward: 2.3\n",
      "Episode 48 \tInst. Reward: 11.9\tAvg. Reward: 2.5\n",
      "Episode 49 \tInst. Reward: 13.1\tAvg. Reward: 2.7\n",
      "Episode 50 \tInst. Reward: 5.2\tAvg. Reward: 2.7\n",
      "Episode 51 \tInst. Reward: 12.1\tAvg. Reward: 2.9\n",
      "Episode 52 \tInst. Reward: 17.5\tAvg. Reward: 3.2\n",
      "Episode 53 \tInst. Reward: 20.4\tAvg. Reward: 3.5\n",
      "Episode 54 \tInst. Reward: 7.3\tAvg. Reward: 3.6\n",
      "Episode 55 \tInst. Reward: 15.0\tAvg. Reward: 3.8\n",
      "Episode 56 \tInst. Reward: 18.2\tAvg. Reward: 4.1\n",
      "Episode 57 \tInst. Reward: 20.6\tAvg. Reward: 4.3\n",
      "Episode 58 \tInst. Reward: 18.4\tAvg. Reward: 4.6\n",
      "Episode 59 \tInst. Reward: 5.1\tAvg. Reward: 4.6\n",
      "Episode 60 \tInst. Reward: 20.6\tAvg. Reward: 4.9\n",
      "Episode 61 \tInst. Reward: 23.8\tAvg. Reward: 5.2\n",
      "Episode 62 \tInst. Reward: 11.7\tAvg. Reward: 5.3\n",
      "Episode 63 \tInst. Reward: 27.8\tAvg. Reward: 5.6\n",
      "Episode 64 \tInst. Reward: 18.7\tAvg. Reward: 5.8\n",
      "Episode 65 \tInst. Reward: 24.8\tAvg. Reward: 6.1\n",
      "Episode 66 \tInst. Reward: 13.2\tAvg. Reward: 6.2\n",
      "Episode 67 \tInst. Reward: 5.1\tAvg. Reward: 6.2\n",
      "Episode 68 \tInst. Reward: 22.7\tAvg. Reward: 6.5\n",
      "Episode 69 \tInst. Reward: 35.7\tAvg. Reward: 6.9\n",
      "Episode 70 \tInst. Reward: 23.4\tAvg. Reward: 7.1\n",
      "Episode 71 \tInst. Reward: 23.2\tAvg. Reward: 7.3\n",
      "Episode 72 \tInst. Reward: 27.3\tAvg. Reward: 7.6\n",
      "Episode 73 \tInst. Reward: 34.2\tAvg. Reward: 8.0\n",
      "Episode 74 \tInst. Reward: 23.1\tAvg. Reward: 8.2\n",
      "Episode 75 \tInst. Reward: 7.8\tAvg. Reward: 8.2\n",
      "Episode 76 \tInst. Reward: 27.3\tAvg. Reward: 8.4\n",
      "Episode 77 \tInst. Reward: 26.4\tAvg. Reward: 8.7\n",
      "Episode 78 \tInst. Reward: 26.4\tAvg. Reward: 8.9\n",
      "Episode 79 \tInst. Reward: 16.2\tAvg. Reward: 9.0\n",
      "Episode 80 \tInst. Reward: 27.3\tAvg. Reward: 9.2\n",
      "Episode 81 \tInst. Reward: 13.4\tAvg. Reward: 9.3\n",
      "Episode 82 \tInst. Reward: 31.0\tAvg. Reward: 9.5\n",
      "Episode 83 \tInst. Reward: 30.1\tAvg. Reward: 9.8\n",
      "Episode 84 \tInst. Reward: 30.9\tAvg. Reward: 10.0\n",
      "Episode 85 \tInst. Reward: 26.1\tAvg. Reward: 10.2\n",
      "Episode 86 \tInst. Reward: 29.8\tAvg. Reward: 10.5\n",
      "Episode 87 \tInst. Reward: 25.3\tAvg. Reward: 10.6\n",
      "Episode 88 \tInst. Reward: 24.2\tAvg. Reward: 10.8\n",
      "Episode 89 \tInst. Reward: 23.7\tAvg. Reward: 10.9\n",
      "Episode 90 \tInst. Reward: 24.1\tAvg. Reward: 11.1\n",
      "Episode 91 \tInst. Reward: 27.5\tAvg. Reward: 11.3\n",
      "Episode 92 \tInst. Reward: 22.2\tAvg. Reward: 11.4\n",
      "Episode 93 \tInst. Reward: 35.6\tAvg. Reward: 11.6\n",
      "Episode 94 \tInst. Reward: 8.8\tAvg. Reward: 11.6\n",
      "Episode 95 \tInst. Reward: 36.0\tAvg. Reward: 11.9\n",
      "Episode 96 \tInst. Reward: 24.9\tAvg. Reward: 12.0\n",
      "Episode 97 \tInst. Reward: 16.6\tAvg. Reward: 12.0\n",
      "Episode 98 \tInst. Reward: 36.6\tAvg. Reward: 12.3\n",
      "Episode 99 \tInst. Reward: 22.9\tAvg. Reward: 12.4\n",
      "Episode 100 \tInst. Reward: 35.8\tAvg. Reward: 12.6\n",
      "Episode 101 \tInst. Reward: 17.8\tAvg. Reward: 12.8\n",
      "Episode 102 \tInst. Reward: 29.2\tAvg. Reward: 13.1\n",
      "Episode 103 \tInst. Reward: 28.2\tAvg. Reward: 13.4\n",
      "Episode 104 \tInst. Reward: 12.7\tAvg. Reward: 13.5\n",
      "Episode 105 \tInst. Reward: 19.9\tAvg. Reward: 13.7\n",
      "Episode 106 \tInst. Reward: 31.1\tAvg. Reward: 14.0\n",
      "Episode 107 \tInst. Reward: 32.6\tAvg. Reward: 14.3\n",
      "Episode 108 \tInst. Reward: 33.3\tAvg. Reward: 14.6\n",
      "Episode 109 \tInst. Reward: 36.6\tAvg. Reward: 15.0\n",
      "Episode 110 \tInst. Reward: 39.0\tAvg. Reward: 15.3\n",
      "Episode 111 \tInst. Reward: 22.3\tAvg. Reward: 15.6\n",
      "Episode 112 \tInst. Reward: 22.1\tAvg. Reward: 15.8\n",
      "Episode 113 \tInst. Reward: 23.9\tAvg. Reward: 16.0\n",
      "Episode 114 \tInst. Reward: 38.9\tAvg. Reward: 16.4\n",
      "Episode 115 \tInst. Reward: 35.8\tAvg. Reward: 16.7\n",
      "Episode 116 \tInst. Reward: 36.4\tAvg. Reward: 17.1\n",
      "Episode 117 \tInst. Reward: 38.3\tAvg. Reward: 17.5\n",
      "Episode 118 \tInst. Reward: 13.7\tAvg. Reward: 17.6\n",
      "Episode 119 \tInst. Reward: 34.1\tAvg. Reward: 17.9\n",
      "Episode 120 \tInst. Reward: 37.1\tAvg. Reward: 18.3\n",
      "Episode 121 \tInst. Reward: 36.3\tAvg. Reward: 18.6\n",
      "Episode 122 \tInst. Reward: 34.1\tAvg. Reward: 18.9\n",
      "Episode 123 \tInst. Reward: 37.5\tAvg. Reward: 19.3\n",
      "Episode 124 \tInst. Reward: 26.7\tAvg. Reward: 19.6\n",
      "Episode 125 \tInst. Reward: 36.2\tAvg. Reward: 19.9\n",
      "Episode 126 \tInst. Reward: 31.7\tAvg. Reward: 20.1\n",
      "Episode 127 \tInst. Reward: 36.8\tAvg. Reward: 20.5\n",
      "Episode 128 \tInst. Reward: 39.5\tAvg. Reward: 20.9\n",
      "Episode 129 \tInst. Reward: 38.3\tAvg. Reward: 21.2\n",
      "Episode 130 \tInst. Reward: 35.9\tAvg. Reward: 21.5\n",
      "Episode 131 \tInst. Reward: 38.7\tAvg. Reward: 21.9\n",
      "Episode 132 \tInst. Reward: 34.4\tAvg. Reward: 22.2\n",
      "Episode 133 \tInst. Reward: 36.3\tAvg. Reward: 22.5\n",
      "Episode 134 \tInst. Reward: 30.0\tAvg. Reward: 22.8\n",
      "Episode 135 \tInst. Reward: 33.8\tAvg. Reward: 23.1\n",
      "Episode 136 \tInst. Reward: 37.6\tAvg. Reward: 23.4\n",
      "Episode 137 \tInst. Reward: 28.8\tAvg. Reward: 23.7\n",
      "Episode 138 \tInst. Reward: 26.3\tAvg. Reward: 23.9\n",
      "Episode 139 \tInst. Reward: 34.4\tAvg. Reward: 24.3\n",
      "Episode 140 \tInst. Reward: 29.8\tAvg. Reward: 24.5\n",
      "Episode 141 \tInst. Reward: 34.9\tAvg. Reward: 24.8\n",
      "Episode 142 \tInst. Reward: 21.8\tAvg. Reward: 25.0\n",
      "Episode 143 \tInst. Reward: 38.7\tAvg. Reward: 25.3\n",
      "Episode 144 \tInst. Reward: 33.6\tAvg. Reward: 25.6\n",
      "Episode 145 \tInst. Reward: 29.5\tAvg. Reward: 25.9\n",
      "Episode 146 \tInst. Reward: 36.8\tAvg. Reward: 26.2\n",
      "Episode 147 \tInst. Reward: 35.8\tAvg. Reward: 26.5\n",
      "Episode 148 \tInst. Reward: 36.6\tAvg. Reward: 26.8\n",
      "Episode 149 \tInst. Reward: 33.0\tAvg. Reward: 27.0\n",
      "Episode 150 \tInst. Reward: 36.7\tAvg. Reward: 27.3\n",
      "Episode 151 \tInst. Reward: 32.6\tAvg. Reward: 27.5\n",
      "Episode 152 \tInst. Reward: 32.0\tAvg. Reward: 27.7\n",
      "Episode 153 \tInst. Reward: 38.2\tAvg. Reward: 27.8\n",
      "Episode 154 \tInst. Reward: 36.1\tAvg. Reward: 28.1\n",
      "Episode 155 \tInst. Reward: 38.8\tAvg. Reward: 28.4\n",
      "Episode 156 \tInst. Reward: 31.3\tAvg. Reward: 28.5\n",
      "Episode 157 \tInst. Reward: 34.1\tAvg. Reward: 28.6\n",
      "Episode 158 \tInst. Reward: 36.2\tAvg. Reward: 28.8\n",
      "Episode 159 \tInst. Reward: 34.1\tAvg. Reward: 29.1\n",
      "Episode 160 \tInst. Reward: 20.9\tAvg. Reward: 29.1\n",
      "Episode 161 \tInst. Reward: 35.5\tAvg. Reward: 29.2\n",
      "Episode 162 \tInst. Reward: 32.6\tAvg. Reward: 29.4\n",
      "Episode 163 \tInst. Reward: 18.9\tAvg. Reward: 29.3\n",
      "Episode 164 \tInst. Reward: 32.9\tAvg. Reward: 29.5\n",
      "Episode 165 \tInst. Reward: 30.7\tAvg. Reward: 29.5\n",
      "Episode 166 \tInst. Reward: 33.1\tAvg. Reward: 29.7\n",
      "Episode 167 \tInst. Reward: 39.2\tAvg. Reward: 30.1\n",
      "\n",
      "Environment SOLVED in 67 episodes!\tMoving Average =30.1 over last 100 episodes\n"
     ]
    }
   ],
   "source": [
    "# run the training loop\n",
    "agent = Agent(state_size=state_size, action_size=action_size, random_seed=1)\n",
    "scores, avgs = ddpg()"
   ]
  },
  {
   "cell_type": "code",
   "execution_count": 8,
   "metadata": {},
   "outputs": [
    {
     "data": {
      "image/png": "[encoded data removed]",
      "text/plain": [
       "<matplotlib.figure.Figure at 0x7fac5fc2c5f8>"
      ]
     },
     "metadata": {
      "needs_background": "light"
     },
     "output_type": "display_data"
    }
   ],
   "source": [
    "# plot the scores\n",
    "fig = plt.figure()\n",
    "ax = fig.add_subplot(111)\n",
    "plt.plot(np.arange(len(scores)), scores, label='DDPG')\n",
    "plt.plot(np.arange(len(scores)), avgs, c='r', label='moving avg')\n",
    "plt.ylabel('Score')\n",
    "plt.xlabel('Episode #')\n",
    "plt.legend(loc='upper left');\n",
    "plt.show()"
   ]
  },
  {
   "cell_type": "code",
   "execution_count": 9,
   "metadata": {},
   "outputs": [],
   "source": [
    "env.close()"
   ]
  }
 ],
 "metadata": {
  "anaconda-cloud": {},
  "kernelspec": {
   "display_name": "Python 3",
   "language": "python",
   "name": "python3"
  },
  "language_info": {
   "codemirror_mode": {
    "name": "ipython",
    "version": 3
   },
   "file_extension": ".py",
   "mimetype": "text/x-python",
   "name": "python",
   "nbconvert_exporter": "python",
   "pygments_lexer": "ipython3",
   "version": "3.6.3"
  }
 },
 "nbformat": 4,
 "nbformat_minor": 2
}
